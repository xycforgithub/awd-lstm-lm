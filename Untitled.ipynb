{
 "cells": [
  {
   "cell_type": "code",
   "execution_count": 6,
   "metadata": {},
   "outputs": [],
   "source": [
    "%matplotlib inline\n",
    "import json\n",
    "import matplotlib.pyplot as plt\n",
    "import numpy as np\n",
    "\n",
    "\n",
    "\n",
    "\n"
   ]
  },
  {
   "cell_type": "code",
   "execution_count": 21,
   "metadata": {},
   "outputs": [],
   "source": [
    "all_scores = json.load(open('data/score_marco_a_l.json.json'))\n",
    "all_ans_scores = [item['answer_score'] for k,item in all_scores.items()]\n",
    "all_lm_scores = [item['lm_score'] for k,item in all_scores.items()]\n",
    "all_sum_scores = [item['overall_score'] for k,item in all_scores.items()]\n",
    "all_ids = [k for k in all_scores]\n",
    "for i,k in enumerate(all_scores.keys()):\n",
    "    assert all_ans_scores[i]==all_scores[k]['answer_score']\n"
   ]
  },
  {
   "cell_type": "code",
   "execution_count": 18,
   "metadata": {},
   "outputs": [
    {
     "data": {
      "text/plain": [
       "(array([22066., 12973.,  8063.,  8510.,  8762.,  3157.,  2951.,  2171.,\n",
       "         4034.,  6218.]),\n",
       " array([-1.20641756, -0.44653745,  0.31334266,  1.07322277,  1.83310288,\n",
       "         2.59298299,  3.3528631 ,  4.11274321,  4.87262332,  5.63250344,\n",
       "         6.39238355]),\n",
       " <a list of 10 Patch objects>)"
      ]
     },
     "execution_count": 18,
     "metadata": {},
     "output_type": "execute_result"
    },
    {
     "data": {
      "image/png": "[encoded data removed]",
      "text/plain": [
       "<Figure size 432x288 with 1 Axes>"
      ]
     },
     "metadata": {
      "needs_background": "light"
     },
     "output_type": "display_data"
    }
   ],
   "source": [
    "plt.hist(all_ans_scores)"
   ]
  },
  {
   "cell_type": "code",
   "execution_count": 19,
   "metadata": {},
   "outputs": [
    {
     "data": {
      "text/plain": [
       "(array([1.9000e+01, 8.3000e+01, 5.3200e+02, 5.2300e+03, 1.6133e+04,\n",
       "        2.4665e+04, 2.1462e+04, 8.9600e+03, 1.6950e+03, 1.2600e+02]),\n",
       " array([-8.83157579, -7.26532619, -5.69907658, -4.13282698, -2.56657737,\n",
       "        -1.00032776,  0.56592184,  2.13217145,  3.69842106,  5.26467066,\n",
       "         6.83092027]),\n",
       " <a list of 10 Patch objects>)"
      ]
     },
     "execution_count": 19,
     "metadata": {},
     "output_type": "execute_result"
    },
    {
     "data": {
      "image/png": "[encoded data removed]",
      "text/plain": [
       "<Figure size 432x288 with 1 Axes>"
      ]
     },
     "metadata": {
      "needs_background": "light"
     },
     "output_type": "display_data"
    }
   ],
   "source": [
    "plt.hist(all_lm_scores)"
   ]
  },
  {
   "cell_type": "code",
   "execution_count": 20,
   "metadata": {},
   "outputs": [
    {
     "data": {
      "text/plain": [
       "(array([1.4000e+01, 2.4000e+01, 1.1100e+02, 5.2670e+03, 2.8322e+04,\n",
       "        2.7606e+04, 1.2473e+04, 4.2530e+03, 7.7900e+02, 5.6000e+01]),\n",
       " array([-8.68268858, -6.77766263, -4.87263669, -2.96761075, -1.0625848 ,\n",
       "         0.84244114,  2.74746708,  4.65249302,  6.55751897,  8.46254491,\n",
       "        10.36757085]),\n",
       " <a list of 10 Patch objects>)"
      ]
     },
     "execution_count": 20,
     "metadata": {},
     "output_type": "execute_result"
    },
    {
     "data": {
      "image/png": "[encoded data removed]",
      "text/plain": [
       "<Figure size 432x288 with 1 Axes>"
      ]
     },
     "metadata": {
      "needs_background": "light"
     },
     "output_type": "display_data"
    }
   ],
   "source": [
    "plt.hist(all_sum_scores)"
   ]
  },
  {
   "cell_type": "code",
   "execution_count": 22,
   "metadata": {},
   "outputs": [
    {
     "name": "stdout",
     "output_type": "stream",
     "text": [
      "0.0 1.0\n"
     ]
    }
   ],
   "source": [
    "def normalize_scores(all_sum_scores):\n",
    "    all_sum_scores = np.array(all_sum_scores)\n",
    "    all_sum_scores = (all_sum_scores-np.min(all_sum_scores))/(np.max(all_sum_scores)-np.min(all_sum_scores))\n",
    "    print(np.min(all_sum_scores), np.max(all_sum_scores))\n",
    "    print(np.mean(all_sum_scores))"
   ]
  },
  {
   "cell_type": "code",
   "execution_count": 24,
   "metadata": {},
   "outputs": [
    {
     "name": "stdout",
     "output_type": "stream",
     "text": [
      "0.529765112923412\n"
     ]
    }
   ],
   "source": []
  },
  {
   "cell_type": "code",
   "execution_count": 27,
   "metadata": {},
   "outputs": [],
   "source": [
    "out_scores = {k:float(v) for k,v in zip(all_ids, all_sum_scores)}"
   ]
  },
  {
   "cell_type": "code",
   "execution_count": 29,
   "metadata": {},
   "outputs": [],
   "source": [
    "json.dump(out_scores,open('sum_scores.json','w'))"
   ]
  },
  {
   "cell_type": "code",
   "execution_count": null,
   "metadata": {},
   "outputs": [],
   "source": []
  }
 ],
 "metadata": {
  "kernelspec": {
   "display_name": "Python 3",
   "language": "python",
   "name": "python3"
  },
  "language_info": {
   "codemirror_mode": {
    "name": "ipython",
    "version": 3
   },
   "file_extension": ".py",
   "mimetype": "text/x-python",
   "name": "python",
   "nbconvert_exporter": "python",
   "pygments_lexer": "ipython3",
   "version": "3.6.5"
  }
 },
 "nbformat": 4,
 "nbformat_minor": 2
}
